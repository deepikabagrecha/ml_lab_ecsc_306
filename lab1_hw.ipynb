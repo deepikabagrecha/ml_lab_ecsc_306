{
 "cells": [
  {
   "cell_type": "code",
   "execution_count": 3,
   "metadata": {},
   "outputs": [],
   "source": [
    "import tensorflow as tf"
   ]
  },
  {
   "cell_type": "code",
   "execution_count": 14,
   "metadata": {},
   "outputs": [
    {
     "name": "stdout",
     "output_type": "stream",
     "text": [
      "9\n"
     ]
    }
   ],
   "source": [
    "with tf.name_scope(\"square_a\"):\n",
    "    a=tf.constant(5)\n",
    "    x=tf.multiply(a,a)\n",
    "    sess=tf.Session()\n",
    "##print(sess.run(x))\n",
    "with tf.name_scope(\"square_b\"):\n",
    "    b=tf.constant(2)\n",
    "    y=tf.multiply(b,b)\n",
    "        \n",
    "with tf.name_scope(\"value_ab\"):\n",
    "    z=tf.multiply(a,b)\n",
    "        \n",
    "with tf.name_scope(\"scope_final\"):\n",
    "    l1=tf.add(x,y)\n",
    "    l2=tf.multiply(2,z)\n",
    "    l3=tf.subtract(l1,l2)\n",
    "print(sess.run(l3))"
   ]
  },
  {
   "cell_type": "code",
   "execution_count": 15,
   "metadata": {
    "collapsed": true
   },
   "outputs": [],
   "source": [
    "with tf.Session() as sess:\n",
    "    writer = tf.summary.FileWriter(\"/tmp/tboard/lab1_hw\", sess.graph)\n",
    "    writer.close()"
   ]
  },
  {
   "cell_type": "code",
   "execution_count": null,
   "metadata": {
    "collapsed": true
   },
   "outputs": [],
   "source": []
  }
 ],
 "metadata": {
  "kernelspec": {
   "display_name": "Python 3",
   "language": "python",
   "name": "python3"
  },
  "language_info": {
   "codemirror_mode": {
    "name": "ipython",
    "version": 3
   },
   "file_extension": ".py",
   "mimetype": "text/x-python",
   "name": "python",
   "nbconvert_exporter": "python",
   "pygments_lexer": "ipython3",
   "version": "3.6.1"
  }
 },
 "nbformat": 4,
 "nbformat_minor": 2
}
