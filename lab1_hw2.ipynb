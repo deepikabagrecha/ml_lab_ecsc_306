{
 "cells": [
  {
   "cell_type": "code",
   "execution_count": 10,
   "metadata": {
    "collapsed": true
   },
   "outputs": [],
   "source": [
    "import tensorflow as tf"
   ]
  },
  {
   "cell_type": "code",
   "execution_count": 11,
   "metadata": {},
   "outputs": [
    {
     "name": "stdout",
     "output_type": "stream",
     "text": [
      "35\n"
     ]
    }
   ],
   "source": [
    "a=tf.constant(3)\n",
    "b=tf.constant(2)\n",
    "##value of x\n",
    "with tf.name_scope(\"addition\"):\n",
    "    x=tf.add(a,b)\n",
    "\n",
    "##value of y\n",
    "with tf.name_scope(\"scope_y\"):\n",
    "    with tf.name_scope(\"square_a\"):\n",
    "        l1=tf.multiply(a,a)\n",
    "    with tf.name_scope(\"square_b\"):\n",
    "        l2=tf.multiply(b,b)\n",
    "    with tf.name_scope(\"multiplication_ab\"):\n",
    "        l3=tf.multiply(a,b)\n",
    "    with tf.name_scope(\"scope_final\"):\n",
    "        y1=tf.subtract(l1,l3)\n",
    "        y=tf.add(y1,l2)\n",
    "        final=tf.multiply(x,y)\n",
    "        sess=tf.Session()\n",
    "print(sess.run(final))"
   ]
  },
  {
   "cell_type": "code",
   "execution_count": 12,
   "metadata": {
    "collapsed": true
   },
   "outputs": [],
   "source": [
    "with tf.Session() as sess:\n",
    "    writer = tf.summary.FileWriter(\"/tmp/tboard/lab1_hw2\", sess.graph)\n",
    "    writer.close()"
   ]
  },
  {
   "cell_type": "code",
   "execution_count": null,
   "metadata": {
    "collapsed": true
   },
   "outputs": [],
   "source": []
  }
 ],
 "metadata": {
  "kernelspec": {
   "display_name": "Python 3",
   "language": "python",
   "name": "python3"
  },
  "language_info": {
   "codemirror_mode": {
    "name": "ipython",
    "version": 3
   },
   "file_extension": ".py",
   "mimetype": "text/x-python",
   "name": "python",
   "nbconvert_exporter": "python",
   "pygments_lexer": "ipython3",
   "version": "3.6.1"
  }
 },
 "nbformat": 4,
 "nbformat_minor": 2
}
