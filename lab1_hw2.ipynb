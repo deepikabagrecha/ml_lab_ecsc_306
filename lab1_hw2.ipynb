{
 "cells": [
  {
   "cell_type": "code",
   "execution_count": 1,
   "metadata": {
    "collapsed": true
   },
   "outputs": [],
   "source": [
    "import tensorflow as tf"
   ]
  },
  {
   "cell_type": "code",
   "execution_count": 2,
   "metadata": {},
   "outputs": [],
   "source": [
    "x=tf.constant(2)\n",
    "y=tf.constant(1)\n",
    "with tf.name_scope(\"scope1\"):\n",
    "    z=tf.add(x,y)\n",
    "with tf.name_scope(\"scope2\"):\n",
    "    with tf.name_scope(\"scope_a2\"):\n",
    "        a2=tf.multiply(x,x)\n",
    "    with tf.name_scope(\"scope_ab\"):\n",
    "        ab=tf.multiply(x,y)\n",
    "    with tf.name_scope(\"scope_b2\"):\n",
    "        b2=tf.multiply(y,y)\n",
    "    l1=tf.subtract(a2,ab)\n",
    "    l2=tf.add(l1,b2)\n",
    "with tf.name_scope(\"scope_final\"):\n",
    "    final=tf.multiply(z,l2)"
   ]
  },
  {
   "cell_type": "code",
   "execution_count": 3,
   "metadata": {},
   "outputs": [
    {
     "name": "stdout",
     "output_type": "stream",
     "text": [
      "9\n"
     ]
    }
   ],
   "source": [
    "sess=tf.Session()\n",
    "print(sess.run(final))"
   ]
  },
  {
   "cell_type": "code",
   "execution_count": 4,
   "metadata": {},
   "outputs": [
    {
     "name": "stdout",
     "output_type": "stream",
     "text": [
      "9\n"
     ]
    }
   ],
   "source": [
    "with tf.Session() as sess:\n",
    "    writer = tf.summary.FileWriter(\"/tmp/tboard/cube_ab\", sess.graph)\n",
    "    print(sess.run(final))\n",
    "    writer.close()"
   ]
  },
  {
   "cell_type": "code",
   "execution_count": null,
   "metadata": {
    "collapsed": true
   },
   "outputs": [],
   "source": []
  }
 ],
 "metadata": {
  "kernelspec": {
   "display_name": "Python 3",
   "language": "python",
   "name": "python3"
  },
  "language_info": {
   "codemirror_mode": {
    "name": "ipython",
    "version": 3
   },
   "file_extension": ".py",
   "mimetype": "text/x-python",
   "name": "python",
   "nbconvert_exporter": "python",
   "pygments_lexer": "ipython3",
   "version": "3.6.1"
  }
 },
 "nbformat": 4,
 "nbformat_minor": 2
}
