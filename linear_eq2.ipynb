{
 "cells": [
  {
   "cell_type": "code",
   "execution_count": 1,
   "metadata": {
    "collapsed": true
   },
   "outputs": [],
   "source": [
    "import numpy as np\n",
    "import tensorflow as tf"
   ]
  },
  {
   "cell_type": "code",
   "execution_count": 2,
   "metadata": {},
   "outputs": [
    {
     "name": "stdout",
     "output_type": "stream",
     "text": [
      "1.0\n",
      "2.0\n",
      "3.0\n",
      "4.0\n",
      "5.0\n",
      "6.0\n",
      "7.0\n",
      "8.0\n"
     ]
    }
   ],
   "source": [
    "x=tf.constant([1.0,2.0,3.0,4.0])\n",
    "y=tf.constant([5.0,6.0,7.0,8.0])\n",
    "with tf.name_scope (\"scope_arrayx\"):\n",
    "    with tf.Session() as sess:\n",
    "        for i in range(len(sess.run(x))):\n",
    "            output = sess.run(x[i])\n",
    "            print(output)\n",
    "    \n",
    "\n",
    "with tf.name_scope (\"scope_arrayy\"):\n",
    "    with tf.Session() as sess:\n",
    "        for i in range(len(sess.run(y))):\n",
    "            output1 = sess.run(y[i])\n",
    "            print(output1)"
   ]
  },
  {
   "cell_type": "code",
   "execution_count": 3,
   "metadata": {
    "collapsed": true
   },
   "outputs": [],
   "source": [
    "with tf.name_scope(\"scope_mean\"):\n",
    "    x1=tf.reduce_mean(x)\n",
    "    y1=tf.reduce_mean(y)"
   ]
  },
  {
   "cell_type": "code",
   "execution_count": 4,
   "metadata": {
    "collapsed": true
   },
   "outputs": [],
   "source": [
    "with tf.name_scope(\"scope_variance\"):\n",
    "    v1=tf.subtract(x,x1)\n",
    "    v2=tf.multiply(v1,v1)\n",
    "    v3=tf.reduce_sum(v2)"
   ]
  },
  {
   "cell_type": "code",
   "execution_count": 5,
   "metadata": {
    "collapsed": true
   },
   "outputs": [],
   "source": [
    "with tf.name_scope(\"scope_covariance\"):\n",
    "    c1=tf.subtract(y,y1)\n",
    "    c2=tf.multiply(v1,c1)\n",
    "    c3=tf.reduce_sum(c2)"
   ]
  },
  {
   "cell_type": "code",
   "execution_count": 6,
   "metadata": {
    "collapsed": true
   },
   "outputs": [],
   "source": [
    "with tf.name_scope(\"scope_value_c\"):\n",
    "    c=tf.divide(c3,v3)"
   ]
  },
  {
   "cell_type": "code",
   "execution_count": 7,
   "metadata": {
    "collapsed": true
   },
   "outputs": [],
   "source": [
    "with tf.name_scope(\"scope_value_m\"):\n",
    "    m1=tf.multiply(c,x1)\n",
    "    m2=tf.subtract(y1,m1)"
   ]
  },
  {
   "cell_type": "code",
   "execution_count": 8,
   "metadata": {},
   "outputs": [
    {
     "name": "stdout",
     "output_type": "stream",
     "text": [
      "[ 1.  2.  3.  4.]\n",
      "[ 5.  6.  7.  8.]\n",
      "2.5\n",
      "6.5\n",
      "5.0\n",
      "5.0\n",
      "1.0\n",
      "4.0\n"
     ]
    }
   ],
   "source": [
    "sess=tf.Session()\n",
    "print(sess.run(x))\n",
    "print(sess.run(y))\n",
    "print(sess.run(x1))\n",
    "print(sess.run(y1))\n",
    "print(sess.run(v3))\n",
    "print(sess.run(c3))\n",
    "print(sess.run(c))\n",
    "print(sess.run(m2))"
   ]
  },
  {
   "cell_type": "code",
   "execution_count": 9,
   "metadata": {
    "collapsed": true
   },
   "outputs": [],
   "source": [
    "with tf.Session() as sess:\n",
    "    writer = tf.summary.FileWriter(\"/tmp/tboard/linear_eq\", sess.graph)\n",
    "    writer.close()"
   ]
  },
  {
   "cell_type": "code",
   "execution_count": 10,
   "metadata": {},
   "outputs": [
    {
     "name": "stdout",
     "output_type": "stream",
     "text": [
      "[5.0, 13.0, 21.0, 29.0, 37.0]\n"
     ]
    }
   ],
   "source": [
    "with tf.Session() as sess:\n",
    "    d1=sess.run(x)\n",
    "    e1=sess.run(y)\n",
    "arr_x = np.asarray(d1)\n",
    "arr_y = np.asarray(e1)\n",
    "val_x=tf.constant([1.0, 3.0, 5.0, 7.0, 9.0])\n",
    "with tf.Session() as sess:\n",
    "    val_x1=sess.run(val_x)\n",
    "val_x2=np.asarray(val_x1)\n",
    "val_y=[0]*5\n",
    "with tf.Session() as sess:\n",
    "        for i in range(len(sess.run(val_x))):\n",
    "            p1 = sess.run(val_x[i])\n",
    "            p2=tf.multiply(p1,m2)\n",
    "            p3=tf.add(p2,c)\n",
    "            val_y[i]=sess.run(p3)\n",
    "print(val_y)"
   ]
  },
  {
   "cell_type": "code",
   "execution_count": 11,
   "metadata": {},
   "outputs": [
    {
     "data": {
      "image/png": "[encoded data removed]",
      "text/plain": [
       "<matplotlib.figure.Figure at 0x7f5811a2b4a8>"
      ]
     },
     "metadata": {},
     "output_type": "display_data"
    }
   ],
   "source": [
    "import matplotlib.pyplot as plt\n",
    "plt.plot(arr_x, arr_y, 'ro', label='x_values')\n",
    "plt.plot(val_x2, val_y, label='fitted line')\n",
    "plt.legend()\n",
    "plt.show()"
   ]
  },
  {
   "cell_type": "code",
   "execution_count": 12,
   "metadata": {},
   "outputs": [
    {
     "name": "stdout",
     "output_type": "stream",
     "text": [
      "4.0\n"
     ]
    }
   ],
   "source": [
    "with tf.name_scope(\"scope_rms\"):\n",
    "    rms=tf.sqrt(tf.reduce_mean(tf.squared_difference(arr_x,arr_y)))\n",
    "    with tf.Session() as sess:\n",
    "        print(sess.run(rms))"
   ]
  },
  {
   "cell_type": "code",
   "execution_count": null,
   "metadata": {
    "collapsed": true
   },
   "outputs": [],
   "source": []
  }
 ],
 "metadata": {
  "kernelspec": {
   "display_name": "Python 3",
   "language": "python",
   "name": "python3"
  },
  "language_info": {
   "codemirror_mode": {
    "name": "ipython",
    "version": 3
   },
   "file_extension": ".py",
   "mimetype": "text/x-python",
   "name": "python",
   "nbconvert_exporter": "python",
   "pygments_lexer": "ipython3",
   "version": "3.6.1"
  }
 },
 "nbformat": 4,
 "nbformat_minor": 2
}
